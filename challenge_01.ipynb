{
 "cells": [
  {
   "cell_type": "code",
   "execution_count": 2,
   "metadata": {},
   "outputs": [
    {
     "name": "stdout",
     "output_type": "stream",
     "text": [
      "In the realm of style and design, CSS reigns supreme,\n",
      "With selectors and properties, it creates a dream.\n",
      "From colors to layouts, it weaves its magic spell,\n",
      "Making websites beautiful, where stories dwell.\n",
      "\n",
      "With cascading rules, it controls the display,\n",
      "Making elements dance in a visual ballet.\n",
      "Margins and paddings, floats and flexbox,\n",
      "CSS brings order to the chaos, like a clever paradox.\n",
      "\n",
      "But beware, dear coder, of specificity's might,\n",
      "For a misplaced semicolon can lead to a fight.\n",
      "With !important declarations and nested rules,\n",
      "CSS can be tricky, for beginners and old-schools.\n",
      "\n",
      "So embrace the beauty of CSS, with all its quirks,\n",
      "And let your creativity flow, like a river that lurks.\n",
      "For in the world of web development, it's a language so grand,\n",
      "CSS, the painter of the web, with a brush in its hand.This poem beautifully captures the essence of CSS (Cascading Style Sheets) in the realm of web development. It portrays CSS as a powerful tool that reigns supreme in the world of style and design, weaving a magic spell with its selectors, properties, and cascading rules. The poem emphasizes how CSS brings order to the chaos of web layouts, making websites beautiful and visually engaging.\n",
      "\n",
      "The mention of specificity's might warns coders about the importance of attention to detail in CSS, as even a small error like a misplaced semicolon can lead to issues. The poem acknowledges the complexities of CSS, with its !important declarations and nested rules, which can be challenging for both beginners and experienced developers.\n",
      "\n",
      "Overall, the poem celebrates the beauty and creativity of CSS, likening it to a painter with a brush in its hand, shaping the visual landscape of the web. It encourages readers to embrace the quirks of CSS and let their creativity flow, highlighting the significance of CSS in the world of web development."
     ]
    },
    {
     "data": {
      "text/plain": [
       "AIMessageChunk(content=\"This poem beautifully captures the essence of CSS (Cascading Style Sheets) in the realm of web development. It portrays CSS as a powerful tool that reigns supreme in the world of style and design, weaving a magic spell with its selectors, properties, and cascading rules. The poem emphasizes how CSS brings order to the chaos of web layouts, making websites beautiful and visually engaging.\\n\\nThe mention of specificity's might warns coders about the importance of attention to detail in CSS, as even a small error like a misplaced semicolon can lead to issues. The poem acknowledges the complexities of CSS, with its !important declarations and nested rules, which can be challenging for both beginners and experienced developers.\\n\\nOverall, the poem celebrates the beauty and creativity of CSS, likening it to a painter with a brush in its hand, shaping the visual landscape of the web. It encourages readers to embrace the quirks of CSS and let their creativity flow, highlighting the significance of CSS in the world of web development.\")"
      ]
     },
     "execution_count": 2,
     "metadata": {},
     "output_type": "execute_result"
    }
   ],
   "source": [
    "from langchain.chat_models import ChatOpenAI\n",
    "from langchain.prompts import ChatPromptTemplate\n",
    "from langchain.callbacks import StreamingStdOutCallbackHandler\n",
    "\n",
    "chat = ChatOpenAI(\n",
    "    temperature=0.1,\n",
    "    streaming=True,\n",
    "    callbacks=[\n",
    "        StreamingStdOutCallbackHandler()\n",
    "    ]\n",
    ")\n",
    "\n",
    "poet_prompt = ChatPromptTemplate.from_messages(\n",
    "    [\n",
    "        (\n",
    "            \"system\",\n",
    "            \"You are a poet who writes poems about programming languages. Your poems reflect the unique characteristics of each programming language with a touch of humor.\"\n",
    "        ),\n",
    "        (\"human\", \"Please write a poem about {programming_language}\")\n",
    "    ]\n",
    ")\n",
    "\n",
    "poet_chain = poet_prompt | chat\n",
    "\n",
    "critic_prompt = ChatPromptTemplate.from_messages(\n",
    "    [\n",
    "        (\n",
    "            \"system\",\n",
    "            \"You are a critic well-versed in both technology and literature, particularly skilled at interpreting poems about programming languages. If an interpretation is not possible, simply respond with I don't know.\"\n",
    "        ),\n",
    "        (\n",
    "            \"human\",\n",
    "            \"Please interpretate {poem}\"\n",
    "        )\n",
    "    ]\n",
    ")\n",
    "\n",
    "critic_chain = critic_prompt | chat\n",
    "\n",
    "final_chain = {\"poem\": poet_chain} | critic_chain\n",
    "\n",
    "final_chain.invoke({\"programming_language\": \"css\"})"
   ]
  },
  {
   "cell_type": "code",
   "execution_count": null,
   "metadata": {},
   "outputs": [],
   "source": []
  }
 ],
 "metadata": {
  "kernelspec": {
   "display_name": "env",
   "language": "python",
   "name": "python3"
  },
  "language_info": {
   "codemirror_mode": {
    "name": "ipython",
    "version": 3
   },
   "file_extension": ".py",
   "mimetype": "text/x-python",
   "name": "python",
   "nbconvert_exporter": "python",
   "pygments_lexer": "ipython3",
   "version": "3.11.6"
  }
 },
 "nbformat": 4,
 "nbformat_minor": 2
}
